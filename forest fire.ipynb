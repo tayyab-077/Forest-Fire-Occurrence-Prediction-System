{
 "cells": [
  {
   "cell_type": "code",
   "execution_count": 3,
   "id": "95cffa54-bd48-4493-b408-2fec3cb1a8e1",
   "metadata": {},
   "outputs": [
    {
     "name": "stdout",
     "output_type": "stream",
     "text": [
      "✅ Model trained and saved as model.pkl\n"
     ]
    }
   ],
   "source": [
    "import pandas as pd\n",
    "import numpy as np\n",
    "from sklearn.linear_model import LogisticRegression\n",
    "from sklearn.model_selection import train_test_split\n",
    "import joblib\n",
    "\n",
    "# Load dataset\n",
    "data = pd.read_csv('forest fire.csv')\n",
    "\n",
    "# Extract features and target\n",
    "X = data.iloc[:, 1:-1].values  # Oxygen, Temperature, Humidity\n",
    "Y = data.iloc[:, -1].values    # Fire Occurrence\n",
    "\n",
    "# Convert to int if required\n",
    "X = X.astype('int')\n",
    "Y = Y.astype('int')\n",
    "\n",
    "# Train-test split\n",
    "X_train, X_test, Y_train, Y_test = train_test_split(X, Y, test_size=0.3, random_state=0)\n",
    "\n",
    "# Train model\n",
    "model = LogisticRegression()\n",
    "model.fit(X_train, Y_train)\n",
    "\n",
    "# Save model\n",
    "joblib.dump(model, 'model.pkl')\n",
    "\n",
    "print(\"✅ Model trained and saved as model.pkl\")\n"
   ]
  },
  {
   "cell_type": "code",
   "execution_count": null,
   "id": "b5dd632e-4842-44bb-9633-d7371c10587b",
   "metadata": {},
   "outputs": [],
   "source": []
  }
 ],
 "metadata": {
  "kernelspec": {
   "display_name": "Python 3 (ipykernel)",
   "language": "python",
   "name": "python3"
  },
  "language_info": {
   "codemirror_mode": {
    "name": "ipython",
    "version": 3
   },
   "file_extension": ".py",
   "mimetype": "text/x-python",
   "name": "python",
   "nbconvert_exporter": "python",
   "pygments_lexer": "ipython3",
   "version": "3.12.2"
  }
 },
 "nbformat": 4,
 "nbformat_minor": 5
}
